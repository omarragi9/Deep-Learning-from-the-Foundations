{
 "cells": [
  {
   "cell_type": "code",
   "execution_count": 1,
   "id": "5764383f",
   "metadata": {
    "id": "5764383f"
   },
   "outputs": [],
   "source": [
    "#export\n",
    "from pathlib import Path\n",
    "import os\n",
    "import torchvision.datasets as datasets\n",
    "from IPython.core.debugger import set_trace\n",
    "import pickle, gzip, math, torch, matplotlib as mpl\n",
    "import matplotlib.pyplot as plt\n",
    "from torch import tensor\n",
    "import torch"
   ]
  },
  {
   "cell_type": "code",
   "execution_count": 3,
   "id": "brM3p70iFnT2",
   "metadata": {
    "id": "brM3p70iFnT2"
   },
   "outputs": [],
   "source": [
    "def test(a,b,cmp,cname=None):\n",
    "    if cname is None: cname=cmp.__name__\n",
    "    assert cmp(a,b),f\"{cname}:\\n{a}\\n{b}\"\n",
    "\n",
    "def near(a,b): return torch.allclose(a, b, rtol=1e-3, atol=1e-5)\n",
    "def test_near(a,b): test(a,b,near)"
   ]
  },
  {
   "cell_type": "code",
   "execution_count": 4,
   "id": "a9a82bcf",
   "metadata": {
    "id": "a9a82bcf"
   },
   "outputs": [],
   "source": [
    "#export\n",
    "def get_data():\n",
    "    root = 'C:\\\\Users\\\\omar_\\\\Part 2 Deep Learning from the Foundations\\\\data'\n",
    "    if not os.path.exists(root):\n",
    "        os.mkdir(root)\n",
    "    train_set = datasets.MNIST(root = root , train = True , download = False)\n",
    "    test_set = datasets.MNIST(root = root , train = False , download = False)\n",
    "    x_train, x_valid = train_set.train_data.split([50000, 10000])\n",
    "    y_train, y_valid = train_set.train_labels.split([50000, 10000])\n",
    "    return (x_train.view(50000, -1) / 256.0), y_train.float(), (x_valid.view(10000, -1))/ 256.0, y_valid.float()\n",
    "\n",
    "def normalize(x , m , s): return (x - m) / s"
   ]
  },
  {
   "cell_type": "code",
   "execution_count": 5,
   "id": "abaad79c",
   "metadata": {
    "colab": {
     "base_uri": "https://localhost:8080/"
    },
    "id": "abaad79c",
    "outputId": "822ad6de-bd3a-4ee0-e070-fc4539eac2a5"
   },
   "outputs": [
    {
     "name": "stderr",
     "output_type": "stream",
     "text": [
      "F:\\Anaconda\\Anaconda\\lib\\site-packages\\torchvision\\datasets\\mnist.py:498: UserWarning: The given NumPy array is not writeable, and PyTorch does not support non-writeable tensors. This means you can write to the underlying (supposedly non-writeable) NumPy array using the tensor. You may want to copy the array to protect its data or make it writeable before converting it to a tensor. This type of warning will be suppressed for the rest of this program. (Triggered internally at  ..\\torch\\csrc\\utils\\tensor_numpy.cpp:180.)\n",
      "  return torch.from_numpy(parsed.astype(m[2], copy=False)).view(*s)\n",
      "F:\\Anaconda\\Anaconda\\lib\\site-packages\\torchvision\\datasets\\mnist.py:62: UserWarning: train_data has been renamed data\n",
      "  warnings.warn(\"train_data has been renamed data\")\n",
      "F:\\Anaconda\\Anaconda\\lib\\site-packages\\torchvision\\datasets\\mnist.py:52: UserWarning: train_labels has been renamed targets\n",
      "  warnings.warn(\"train_labels has been renamed targets\")\n"
     ]
    }
   ],
   "source": [
    "x_train,y_train,x_valid,y_valid = get_data()"
   ]
  },
  {
   "cell_type": "code",
   "execution_count": 6,
   "id": "e8b698ec",
   "metadata": {
    "colab": {
     "base_uri": "https://localhost:8080/"
    },
    "id": "e8b698ec",
    "outputId": "c86e3ed0-6e46-4843-85d8-d22f0bb59c87"
   },
   "outputs": [
    {
     "data": {
      "text/plain": [
       "torch.Size([50000, 784])"
      ]
     },
     "execution_count": 6,
     "metadata": {},
     "output_type": "execute_result"
    }
   ],
   "source": [
    "x_train.shape"
   ]
  },
  {
   "cell_type": "code",
   "execution_count": 7,
   "id": "8b7a4118",
   "metadata": {
    "colab": {
     "base_uri": "https://localhost:8080/"
    },
    "id": "8b7a4118",
    "outputId": "902cd3f9-3934-4a23-831b-808a21f5ea3b"
   },
   "outputs": [
    {
     "data": {
      "text/plain": [
       "(tensor(0.1304), tensor(0.3073))"
      ]
     },
     "execution_count": 7,
     "metadata": {},
     "output_type": "execute_result"
    }
   ],
   "source": [
    "train_mean , train_std = x_train.mean() , x_train.std()\n",
    "train_mean , train_std"
   ]
  },
  {
   "cell_type": "code",
   "execution_count": 8,
   "id": "5346ee5d",
   "metadata": {
    "id": "5346ee5d"
   },
   "outputs": [],
   "source": [
    "x_train = normalize(x_train, train_mean, train_std)\n",
    "# NB: Use training, not validation mean for validation set\n",
    "x_valid = normalize(x_valid, train_mean, train_std)"
   ]
  },
  {
   "cell_type": "code",
   "execution_count": 9,
   "id": "c3c1e512",
   "metadata": {
    "colab": {
     "base_uri": "https://localhost:8080/"
    },
    "id": "c3c1e512",
    "outputId": "642dc74f-96f8-4bed-dd95-17b25f122990"
   },
   "outputs": [
    {
     "data": {
      "text/plain": [
       "(tensor(3.8966e-08), tensor(1.))"
      ]
     },
     "execution_count": 9,
     "metadata": {},
     "output_type": "execute_result"
    }
   ],
   "source": [
    "train_mean , train_std = x_train.mean(),x_train.std()\n",
    "train_mean , train_std"
   ]
  },
  {
   "cell_type": "code",
   "execution_count": 10,
   "id": "VXF8e3FY89QJ",
   "metadata": {
    "id": "VXF8e3FY89QJ"
   },
   "outputs": [],
   "source": [
    "#export\n",
    "def test_near_zero(a,tol=1e-3): assert a.abs()<tol, f\"Near zero: {a}\""
   ]
  },
  {
   "cell_type": "code",
   "execution_count": 11,
   "id": "3d6d1a9c",
   "metadata": {
    "colab": {
     "base_uri": "https://localhost:8080/"
    },
    "id": "3d6d1a9c",
    "outputId": "23d3c0e4-e163-45aa-ee2a-06f12fda050c"
   },
   "outputs": [
    {
     "data": {
      "text/plain": [
       "(50000, 784, tensor(10.))"
      ]
     },
     "execution_count": 11,
     "metadata": {},
     "output_type": "execute_result"
    }
   ],
   "source": [
    "n , m = x_train.shape\n",
    "c = y_train.max() + 1\n",
    "n , m , c"
   ]
  },
  {
   "cell_type": "code",
   "execution_count": 12,
   "id": "84a33b63",
   "metadata": {
    "id": "84a33b63"
   },
   "outputs": [],
   "source": [
    "nh = 50"
   ]
  },
  {
   "cell_type": "code",
   "execution_count": 13,
   "id": "5c180a48",
   "metadata": {
    "id": "5c180a48"
   },
   "outputs": [],
   "source": [
    "w1 = torch.rand(m , nh) / math.sqrt(m)\n",
    "b1 = torch.rand(nh)\n",
    "w2 = torch.rand(nh , 1) / math.sqrt(m)\n",
    "b2 = torch.rand(1)"
   ]
  },
  {
   "cell_type": "code",
   "execution_count": 14,
   "id": "c24fc764",
   "metadata": {
    "colab": {
     "base_uri": "https://localhost:8080/"
    },
    "id": "c24fc764",
    "outputId": "aa206472-2988-4d05-c26f-ea83999cb95f"
   },
   "outputs": [
    {
     "name": "stdout",
     "output_type": "stream",
     "text": [
      "torch.Size([784, 50])\n",
      "torch.Size([50])\n",
      "torch.Size([50, 1])\n",
      "torch.Size([1])\n"
     ]
    }
   ],
   "source": [
    "print(w1.shape)\n",
    "print(b1.shape)\n",
    "print(w2.shape)\n",
    "print(b2.shape)"
   ]
  },
  {
   "cell_type": "code",
   "execution_count": 15,
   "id": "049511a3",
   "metadata": {
    "id": "049511a3"
   },
   "outputs": [],
   "source": [
    "def lin(x , w , b):\n",
    "    return x @ w + b"
   ]
  },
  {
   "cell_type": "code",
   "execution_count": 16,
   "id": "585a0f3a",
   "metadata": {
    "id": "585a0f3a"
   },
   "outputs": [],
   "source": [
    "def relu(x):\n",
    "    return x.clamp_min(0.) - 0.5"
   ]
  },
  {
   "cell_type": "code",
   "execution_count": 17,
   "id": "4bd96eaf",
   "metadata": {
    "id": "4bd96eaf"
   },
   "outputs": [],
   "source": [
    "def model(x):\n",
    "    l1 = lin(x , w1 , b1)\n",
    "    l2 = relu(l1)\n",
    "    l3 = lin(l2 , w2 , b2)\n",
    "    return l3"
   ]
  },
  {
   "cell_type": "code",
   "execution_count": 18,
   "id": "1ae26231",
   "metadata": {
    "colab": {
     "base_uri": "https://localhost:8080/"
    },
    "id": "1ae26231",
    "outputId": "31ec6bb7-8ca3-4bbf-8a38-4c43ab521d84"
   },
   "outputs": [
    {
     "name": "stdout",
     "output_type": "stream",
     "text": [
      "10 loops, best of 5: 23.1 ms per loop\n"
     ]
    }
   ],
   "source": [
    "%timeit -n 10 _=model(x_valid)"
   ]
  },
  {
   "cell_type": "code",
   "execution_count": 19,
   "id": "02f3776a",
   "metadata": {
    "id": "02f3776a"
   },
   "outputs": [],
   "source": [
    "#export\n",
    "def mse(x , y):\n",
    "    return (x.squeeze(-1) - y).pow(2).mean()"
   ]
  },
  {
   "cell_type": "code",
   "execution_count": 20,
   "id": "f91e1e8f",
   "metadata": {
    "id": "f91e1e8f"
   },
   "outputs": [],
   "source": [
    "y_train , y_valid = y_train.float() , y_valid.float()"
   ]
  },
  {
   "cell_type": "code",
   "execution_count": 21,
   "id": "31ca9457",
   "metadata": {
    "id": "31ca9457"
   },
   "outputs": [],
   "source": [
    "preds = model(x_train)"
   ]
  },
  {
   "cell_type": "code",
   "execution_count": 22,
   "id": "07c0b33f",
   "metadata": {
    "colab": {
     "base_uri": "https://localhost:8080/"
    },
    "id": "07c0b33f",
    "outputId": "34eb26dd-d79d-4e6f-a83e-637c080ae555"
   },
   "outputs": [
    {
     "data": {
      "text/plain": [
       "tensor(19.7370)"
      ]
     },
     "execution_count": 22,
     "metadata": {},
     "output_type": "execute_result"
    }
   ],
   "source": [
    "mse(preds , y_train)"
   ]
  },
  {
   "cell_type": "code",
   "execution_count": 23,
   "id": "05746e1a",
   "metadata": {
    "id": "05746e1a"
   },
   "outputs": [],
   "source": [
    "def mse_grad(inp , targ):\n",
    "    inp.g = 2. * (inp.squeeze() - targ).unsqueeze(-1) / inp.shape[0]"
   ]
  },
  {
   "cell_type": "code",
   "execution_count": 24,
   "id": "9fe436fd",
   "metadata": {
    "id": "9fe436fd"
   },
   "outputs": [],
   "source": [
    "def relu_grad(inp , out):\n",
    "    inp.g = (inp > 0).float() * out.g"
   ]
  },
  {
   "cell_type": "code",
   "execution_count": 25,
   "id": "903d68b0",
   "metadata": {
    "id": "903d68b0"
   },
   "outputs": [],
   "source": [
    "def lin_grad(inp , out , w , b):\n",
    "    inp.g = out.g @ w.t()\n",
    "    w.g = (inp.unsqueeze(-1) * out.g.unsqueeze(1)).sum(0)\n",
    "    b.g = out.g.sum(0)"
   ]
  },
  {
   "cell_type": "code",
   "execution_count": 26,
   "id": "0eae1d71",
   "metadata": {
    "id": "0eae1d71"
   },
   "outputs": [],
   "source": [
    "def forward_and_backward(inp , targ):\n",
    "    # forward pass:\n",
    "    l1 = inp @ w1 + b1\n",
    "    l2 = relu(l1)\n",
    "    out = l2 @ w2 + b2\n",
    "    loss = mse(out, targ)\n",
    "    \n",
    "    # backward pass:\n",
    "    mse_grad(out , targ)\n",
    "    lin_grad(l2 , out , w2 , b2)\n",
    "    relu_grad(l1 , l2)\n",
    "    lin_grad(inp , l1 , w1 , b1)"
   ]
  },
  {
   "cell_type": "code",
   "execution_count": 27,
   "id": "3c5ed108",
   "metadata": {
    "id": "3c5ed108"
   },
   "outputs": [],
   "source": [
    "forward_and_backward(x_train , y_train)"
   ]
  },
  {
   "cell_type": "markdown",
   "id": "GlON19fcF8TK",
   "metadata": {
    "id": "GlON19fcF8TK"
   },
   "source": [
    "**Refactor model**"
   ]
  },
  {
   "cell_type": "code",
   "execution_count": 28,
   "id": "reX8-_bPFpBB",
   "metadata": {
    "id": "reX8-_bPFpBB"
   },
   "outputs": [],
   "source": [
    "class Relu():\n",
    "\n",
    "    def __call__(self , inp):\n",
    "        self.inp = inp\n",
    "        self.out = inp.clamp_min(0.) - 0.5\n",
    "        return self.out\n",
    "\n",
    "    def backward(self):\n",
    "        self.inp.g = (self.inp > 0).float() * self.out.g"
   ]
  },
  {
   "cell_type": "code",
   "execution_count": 29,
   "id": "yaUIgR6_GYuJ",
   "metadata": {
    "id": "yaUIgR6_GYuJ"
   },
   "outputs": [],
   "source": [
    "class Lin():\n",
    "\n",
    "    def __init__(self , w , b): \n",
    "        self.w , self.b = w , b\n",
    "\n",
    "    def __call__(self , inp):\n",
    "        self.inp = inp\n",
    "        self.out = inp @ self.w + self.b\n",
    "        return self.out\n",
    "\n",
    "    def backward(self):\n",
    "        self.inp.g = self.out.g @ self.w.t()\n",
    "        self.w.g = (self.inp.unsqueeze(-1) * self.out.g.unsqueeze(1)).sum(0)\n",
    "        self.b.g = self.out.g.sum(0)"
   ]
  },
  {
   "cell_type": "code",
   "execution_count": 30,
   "id": "zuKwVdixHIz0",
   "metadata": {
    "id": "zuKwVdixHIz0"
   },
   "outputs": [],
   "source": [
    "class Mse():\n",
    "\n",
    "    def __call__(self , inp , targ):\n",
    "        self.inp = inp\n",
    "        self.targ = targ\n",
    "        self.out = (inp.squeeze(-1) - targ).pow(2).mean()\n",
    "        return self.out\n",
    "\n",
    "    def backward(self):\n",
    "        self.inp.g = 2. * (self.inp.squeeze() -  self.targ).unsqueeze(-1) /  self.targ.shape[0]"
   ]
  },
  {
   "cell_type": "code",
   "execution_count": 31,
   "id": "RTtSxyKQIDk6",
   "metadata": {
    "id": "RTtSxyKQIDk6"
   },
   "outputs": [],
   "source": [
    "class Model():\n",
    "\n",
    "    def __init__(self , w1 , b1 , w2 , b2):\n",
    "        self.layers = [Lin(w1 , b1) , Relu() , Lin(w2 , b2)]\n",
    "        self.loss = Mse()\n",
    "\n",
    "    def __call__(self , x , targ):\n",
    "        for l in self.layers:\n",
    "            x = l(x)\n",
    "        return self.loss(x, targ)\n",
    "\n",
    "    def backward(self):\n",
    "        self.loss.backward()\n",
    "        for l in reversed(self.layers): \n",
    "            l.backward()"
   ]
  },
  {
   "cell_type": "code",
   "execution_count": 32,
   "id": "iCYxOAI4IqsF",
   "metadata": {
    "id": "iCYxOAI4IqsF"
   },
   "outputs": [],
   "source": [
    "w1.g,b1.g,w2.g,b2.g = [None]*4\n",
    "model = Model(w1, b1, w2, b2)"
   ]
  },
  {
   "cell_type": "code",
   "execution_count": 33,
   "id": "ylxzdRLYItW0",
   "metadata": {
    "colab": {
     "base_uri": "https://localhost:8080/"
    },
    "id": "ylxzdRLYItW0",
    "outputId": "f3a3ba00-b948-456e-f81f-201979fd3caf"
   },
   "outputs": [
    {
     "name": "stdout",
     "output_type": "stream",
     "text": [
      "CPU times: user 112 ms, sys: 288 µs, total: 113 ms\n",
      "Wall time: 113 ms\n"
     ]
    }
   ],
   "source": [
    "%time loss = model(x_train, y_train)"
   ]
  },
  {
   "cell_type": "code",
   "execution_count": 34,
   "id": "MG9BhX-XI973",
   "metadata": {
    "colab": {
     "base_uri": "https://localhost:8080/"
    },
    "id": "MG9BhX-XI973",
    "outputId": "1876025f-f8d0-4483-a86e-96ea8eeec085"
   },
   "outputs": [
    {
     "name": "stdout",
     "output_type": "stream",
     "text": [
      "CPU times: user 4.98 s, sys: 47.2 ms, total: 5.03 s\n",
      "Wall time: 5 s\n"
     ]
    }
   ],
   "source": [
    "%time model.backward()"
   ]
  },
  {
   "cell_type": "markdown",
   "id": "6JgdYWd1Q6J8",
   "metadata": {
    "id": "6JgdYWd1Q6J8"
   },
   "source": [
    "**Module.forward()**"
   ]
  },
  {
   "cell_type": "code",
   "execution_count": 35,
   "id": "5mzMJf5MJz4z",
   "metadata": {
    "id": "5mzMJf5MJz4z"
   },
   "outputs": [],
   "source": [
    "class Module():\n",
    "    def __call__(self, *args):\n",
    "        self.args = args\n",
    "        self.out = self.forward(*args)\n",
    "        return self.out\n",
    "    \n",
    "    def forward(self): raise Exception('not implemented')\n",
    "    def backward(self): self.bwd(self.out, *self.args)"
   ]
  },
  {
   "cell_type": "code",
   "execution_count": 36,
   "id": "GZVbb2ypQ_De",
   "metadata": {
    "id": "GZVbb2ypQ_De"
   },
   "outputs": [],
   "source": [
    "class Relu(Module):\n",
    "    def forward(self, inp): return inp.clamp_min(0.)-0.5\n",
    "    def bwd(self, out, inp): inp.g = (inp>0).float() * out.g"
   ]
  },
  {
   "cell_type": "code",
   "execution_count": 37,
   "id": "j1VsuI1iQ_Fg",
   "metadata": {
    "id": "j1VsuI1iQ_Fg"
   },
   "outputs": [],
   "source": [
    "class Lin(Module):\n",
    "    def __init__(self, w, b): self.w,self.b = w,b\n",
    "        \n",
    "    def forward(self, inp): return inp@self.w + self.b\n",
    "    \n",
    "    def bwd(self, out, inp):\n",
    "        inp.g = out.g @ self.w.t()\n",
    "        self.w.g = torch.einsum(\"bi,bj->ij\", inp, out.g)\n",
    "        self.b.g = out.g.sum(0)"
   ]
  },
  {
   "cell_type": "code",
   "execution_count": 38,
   "id": "OQZ7Q9U4Q_Hf",
   "metadata": {
    "id": "OQZ7Q9U4Q_Hf"
   },
   "outputs": [],
   "source": [
    "class Mse(Module):\n",
    "    def forward (self, inp, targ): return (inp.squeeze() - targ).pow(2).mean()\n",
    "    def bwd(self, out, inp, targ): inp.g = 2*(inp.squeeze()-targ).unsqueeze(-1) / targ.shape[0]"
   ]
  },
  {
   "cell_type": "code",
   "execution_count": 39,
   "id": "ua0y00Q3Q_Ja",
   "metadata": {
    "id": "ua0y00Q3Q_Ja"
   },
   "outputs": [],
   "source": [
    "class Model():\n",
    "    def __init__(self):\n",
    "        self.layers = [Lin(w1,b1), Relu(), Lin(w2,b2)]\n",
    "        self.loss = Mse()\n",
    "        \n",
    "    def __call__(self, x, targ):\n",
    "        for l in self.layers: x = l(x)\n",
    "        return self.loss(x, targ)\n",
    "    \n",
    "    def backward(self):\n",
    "        self.loss.backward()\n",
    "        for l in reversed(self.layers): l.backward()"
   ]
  },
  {
   "cell_type": "code",
   "execution_count": 40,
   "id": "zJNPsv6WRHty",
   "metadata": {
    "id": "zJNPsv6WRHty"
   },
   "outputs": [],
   "source": [
    "w1.g,b1.g,w2.g,b2.g = [None]*4\n",
    "model = Model()"
   ]
  },
  {
   "cell_type": "code",
   "execution_count": 41,
   "id": "vEd16Mz_RHv8",
   "metadata": {
    "colab": {
     "base_uri": "https://localhost:8080/"
    },
    "id": "vEd16Mz_RHv8",
    "outputId": "2959e461-e0e0-4dd9-c3ac-f1332b298495"
   },
   "outputs": [
    {
     "name": "stdout",
     "output_type": "stream",
     "text": [
      "CPU times: user 122 ms, sys: 0 ns, total: 122 ms\n",
      "Wall time: 125 ms\n"
     ]
    }
   ],
   "source": [
    "%time loss = model(x_train, y_train)"
   ]
  },
  {
   "cell_type": "code",
   "execution_count": 42,
   "id": "RZL68-MNRHyS",
   "metadata": {
    "colab": {
     "base_uri": "https://localhost:8080/"
    },
    "id": "RZL68-MNRHyS",
    "outputId": "d720281a-1040-4cdf-de8d-45fec57cab3e"
   },
   "outputs": [
    {
     "name": "stdout",
     "output_type": "stream",
     "text": [
      "CPU times: user 213 ms, sys: 4.36 ms, total: 218 ms\n",
      "Wall time: 218 ms\n"
     ]
    }
   ],
   "source": [
    "%time model.backward()"
   ]
  },
  {
   "cell_type": "markdown",
   "id": "ftigWIBMPtO6",
   "metadata": {
    "id": "ftigWIBMPtO6"
   },
   "source": [
    "nn.Linear and nn.Module"
   ]
  },
  {
   "cell_type": "code",
   "execution_count": 43,
   "id": "ke7nO_2hPu1-",
   "metadata": {
    "id": "ke7nO_2hPu1-"
   },
   "outputs": [],
   "source": [
    "#export\n",
    "from torch import nn"
   ]
  },
  {
   "cell_type": "code",
   "execution_count": 44,
   "id": "aDAwaQnWPwyh",
   "metadata": {
    "id": "aDAwaQnWPwyh"
   },
   "outputs": [],
   "source": [
    "class Model(nn.Module):\n",
    "    def __init__(self, n_in, nh, n_out):\n",
    "        super().__init__()\n",
    "        self.layers = [nn.Linear(n_in,nh), nn.ReLU(), nn.Linear(nh,n_out)]\n",
    "        self.loss = mse\n",
    "        \n",
    "    def __call__(self, x, targ):\n",
    "        for l in self.layers: x = l(x)\n",
    "        return self.loss(x.squeeze(), targ)"
   ]
  },
  {
   "cell_type": "markdown",
   "id": "1711af7e",
   "metadata": {},
   "source": [
    "# Reference for this notebook"
   ]
  },
  {
   "cell_type": "code",
   "execution_count": 1,
   "id": "dmbM4kDEPzNm",
   "metadata": {
    "id": "dmbM4kDEPzNm"
   },
   "outputs": [],
   "source": [
    "#https://github.com/fastai/course-v3/blob/master/nbs/dl2/02_fully_connected.ipynb"
   ]
  }
 ],
 "metadata": {
  "colab": {
   "collapsed_sections": [],
   "name": "_02_fully_connected.ipynb",
   "provenance": []
  },
  "kernelspec": {
   "display_name": "Python 3 (ipykernel)",
   "language": "python",
   "name": "python3"
  },
  "language_info": {
   "codemirror_mode": {
    "name": "ipython",
    "version": 3
   },
   "file_extension": ".py",
   "mimetype": "text/x-python",
   "name": "python",
   "nbconvert_exporter": "python",
   "pygments_lexer": "ipython3",
   "version": "3.7.11"
  }
 },
 "nbformat": 4,
 "nbformat_minor": 5
}
