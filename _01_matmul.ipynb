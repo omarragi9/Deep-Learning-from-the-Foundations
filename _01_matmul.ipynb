{
 "cells": [
  {
   "cell_type": "markdown",
   "id": "650b4c1e",
   "metadata": {
    "id": "650b4c1e"
   },
   "source": [
    "I have created this notebook while studying the course Part 2:Deep Learning from the Foundations from FastAI course. Here i'm trying to code the ways that are used in the notebook referenced at the end trying to better understand them and implement them by myself. <br><br>\n",
    "**Note** : the code in the referenced notebook enhanced the time 50000 times while here is 3000 times only because i run on random tensor of lower dimensions which are (100 , 20) * (20 , 50) here while in the cource's notebook the dimensions are (5 , 784) * (784 , 10)"
   ]
  },
  {
   "cell_type": "code",
   "execution_count": null,
   "id": "f3bfe211",
   "metadata": {
    "id": "f3bfe211"
   },
   "outputs": [],
   "source": [
    "import torch"
   ]
  },
  {
   "cell_type": "code",
   "execution_count": null,
   "id": "b4342f27",
   "metadata": {
    "id": "b4342f27"
   },
   "outputs": [],
   "source": [
    "def test(a,b,cmp,cname=None):\n",
    "    if cname is None: cname=cmp.__name__\n",
    "    assert cmp(a,b),f\"{cname}:\\n{a}\\n{b}\""
   ]
  },
  {
   "cell_type": "code",
   "execution_count": null,
   "id": "3bfa51ff",
   "metadata": {
    "id": "3bfa51ff"
   },
   "outputs": [],
   "source": [
    "def near(a,b): return torch.allclose(a, b, rtol=1e-3, atol=1e-5)\n",
    "def test_near(a,b): test(a,b,near)"
   ]
  },
  {
   "cell_type": "markdown",
   "id": "beda00e6",
   "metadata": {
    "id": "beda00e6"
   },
   "source": [
    "# Matrix multiplication using loops"
   ]
  },
  {
   "cell_type": "code",
   "execution_count": null,
   "id": "e7856476",
   "metadata": {
    "id": "e7856476"
   },
   "outputs": [],
   "source": [
    "def matmul1(x , y):\n",
    "    ar , ac = x.shape\n",
    "    br , bc = y.shape\n",
    "    assert ac == br\n",
    "    c = torch.zeros(ar , bc)\n",
    "    for i in range(ar):\n",
    "        for j in range(bc):\n",
    "            for k in range(ac):\n",
    "                c[i , j] += x[i , k] * y[k , j]\n",
    "    return c"
   ]
  },
  {
   "cell_type": "code",
   "execution_count": null,
   "id": "1c517a3e",
   "metadata": {
    "id": "1c517a3e",
    "outputId": "223c0ab8-245e-4181-9da9-832190e180a3"
   },
   "outputs": [
    {
     "name": "stderr",
     "output_type": "stream",
     "text": [
      "F:\\Anaconda\\Anaconda\\lib\\site-packages\\ipykernel_launcher.py:1: UserWarning: To copy construct from a tensor, it is recommended to use sourceTensor.clone().detach() or sourceTensor.clone().detach().requires_grad_(True), rather than torch.tensor(sourceTensor).\n",
      "  \"\"\"Entry point for launching an IPython kernel.\n",
      "F:\\Anaconda\\Anaconda\\lib\\site-packages\\ipykernel_launcher.py:2: UserWarning: To copy construct from a tensor, it is recommended to use sourceTensor.clone().detach() or sourceTensor.clone().detach().requires_grad_(True), rather than torch.tensor(sourceTensor).\n",
      "  \n"
     ]
    }
   ],
   "source": [
    "x = torch.tensor(torch.rand(100 , 20))\n",
    "y = torch.tensor(torch.rand(20 , 50))"
   ]
  },
  {
   "cell_type": "code",
   "execution_count": null,
   "id": "df969859",
   "metadata": {
    "id": "df969859",
    "outputId": "80a44e18-f396-45a8-acbd-269d0c80ea74"
   },
   "outputs": [
    {
     "name": "stdout",
     "output_type": "stream",
     "text": [
      "torch.Size([100, 20])\n",
      "torch.Size([20, 50])\n"
     ]
    }
   ],
   "source": [
    "print(x.shape)\n",
    "print(y.shape)"
   ]
  },
  {
   "cell_type": "code",
   "execution_count": null,
   "id": "21780e5b",
   "metadata": {
    "id": "21780e5b"
   },
   "outputs": [],
   "source": [
    "res1 = matmul1(x , y)"
   ]
  },
  {
   "cell_type": "code",
   "execution_count": null,
   "id": "1113a454",
   "metadata": {
    "id": "1113a454",
    "outputId": "47961402-3ee5-4bfa-e4ec-ce6507fa360e"
   },
   "outputs": [
    {
     "name": "stdout",
     "output_type": "stream",
     "text": [
      "Wall time: 3.69 s\n"
     ]
    }
   ],
   "source": [
    "%time t1 = matmul1(x , y)"
   ]
  },
  {
   "cell_type": "markdown",
   "id": "9a422f5e",
   "metadata": {
    "id": "9a422f5e"
   },
   "source": [
    "#  Matrix multiplication using elementwise"
   ]
  },
  {
   "cell_type": "code",
   "execution_count": null,
   "id": "e12495b0",
   "metadata": {
    "id": "e12495b0"
   },
   "outputs": [],
   "source": [
    "def matmul2(x , y):\n",
    "    ar , ac = x.shape\n",
    "    br , bc = y.shape\n",
    "    assert ac == br\n",
    "    c = torch.zeros(ar , bc)\n",
    "    for i in range(ar):\n",
    "        for j in range(bc):\n",
    "            c[i , j] = (x[i,:] * y[:,j]).sum()\n",
    "    return c"
   ]
  },
  {
   "cell_type": "code",
   "execution_count": null,
   "id": "4aed8441",
   "metadata": {
    "id": "4aed8441"
   },
   "outputs": [],
   "source": [
    "res2 = matmul2(x , y)"
   ]
  },
  {
   "cell_type": "code",
   "execution_count": null,
   "id": "91cda9fe",
   "metadata": {
    "id": "91cda9fe",
    "outputId": "da13603b-04e8-4762-e55c-ba36f9f4cd7b"
   },
   "outputs": [
    {
     "name": "stdout",
     "output_type": "stream",
     "text": [
      "Wall time: 199 ms\n"
     ]
    }
   ],
   "source": [
    "%time t1 = matmul2(x , y)"
   ]
  },
  {
   "cell_type": "code",
   "execution_count": null,
   "id": "694e2213",
   "metadata": {
    "id": "694e2213",
    "outputId": "7dcd8dcc-d2da-4b00-fd0f-bc060e4598ac"
   },
   "outputs": [
    {
     "data": {
      "text/plain": [
       "18.542713567839193"
      ]
     },
     "execution_count": 16,
     "metadata": {},
     "output_type": "execute_result"
    }
   ],
   "source": [
    "3.69 / 0.199 #compare between matmul1 and matmul2"
   ]
  },
  {
   "cell_type": "markdown",
   "id": "d9f530be",
   "metadata": {
    "id": "d9f530be"
   },
   "source": [
    "# Matrix multiplication using broadcasting"
   ]
  },
  {
   "cell_type": "code",
   "execution_count": null,
   "id": "26f447a4",
   "metadata": {
    "id": "26f447a4"
   },
   "outputs": [],
   "source": [
    "def matmul3(x , y):\n",
    "    ar , ac = x.shape\n",
    "    br , bc = y.shape\n",
    "    assert ac == br\n",
    "    c = torch.zeros(ar , bc)\n",
    "    for i in range(ar):\n",
    "        c[i] = (x[i].unsqueeze(-1) * y).sum(0)\n",
    "    return c"
   ]
  },
  {
   "cell_type": "code",
   "execution_count": null,
   "id": "e82d3c85",
   "metadata": {
    "id": "e82d3c85"
   },
   "outputs": [],
   "source": [
    "res3 = matmul3(x , y)"
   ]
  },
  {
   "cell_type": "code",
   "execution_count": null,
   "id": "507ba62a",
   "metadata": {
    "id": "507ba62a",
    "outputId": "6b634ba7-b29a-4253-d16c-ab1037e8a66f"
   },
   "outputs": [
    {
     "name": "stdout",
     "output_type": "stream",
     "text": [
      "Wall time: 7 ms\n"
     ]
    }
   ],
   "source": [
    "%time t1 = matmul3(x , y)"
   ]
  },
  {
   "cell_type": "code",
   "execution_count": null,
   "id": "1c38074b",
   "metadata": {
    "id": "1c38074b",
    "outputId": "cbd22407-c2d9-49d6-86a6-ec4ec2a7bdfa"
   },
   "outputs": [
    {
     "data": {
      "text/plain": [
       "28.428571428571427"
      ]
     },
     "execution_count": 33,
     "metadata": {},
     "output_type": "execute_result"
    }
   ],
   "source": [
    "199 / 7 #compare between matmul2 and matmul3"
   ]
  },
  {
   "cell_type": "code",
   "execution_count": null,
   "id": "26e91ce6",
   "metadata": {
    "id": "26e91ce6"
   },
   "outputs": [],
   "source": [
    "test_near(res1 , res2)\n",
    "test_near(res1 , res3)"
   ]
  },
  {
   "cell_type": "markdown",
   "id": "fa3c7dd1",
   "metadata": {
    "id": "fa3c7dd1"
   },
   "source": [
    "# Matrix multiplication using einstein summation"
   ]
  },
  {
   "cell_type": "code",
   "execution_count": null,
   "id": "c8a91801",
   "metadata": {
    "id": "c8a91801"
   },
   "outputs": [],
   "source": [
    "def matmul4(x , y):\n",
    "    ar , ac = x.shape\n",
    "    br , bc = y.shape\n",
    "    assert ac == br\n",
    "    c = torch.zeros(ar , bc)\n",
    "    return torch.einsum('ik,kj->ij' , x , y)"
   ]
  },
  {
   "cell_type": "code",
   "execution_count": null,
   "id": "c2a41efa",
   "metadata": {
    "id": "c2a41efa"
   },
   "outputs": [],
   "source": [
    "res4 = matmul4(x , y)"
   ]
  },
  {
   "cell_type": "code",
   "execution_count": null,
   "id": "c93db634",
   "metadata": {
    "id": "c93db634",
    "outputId": "0d819ca0-50d9-40ab-d545-e3a3024e1abd"
   },
   "outputs": [
    {
     "name": "stdout",
     "output_type": "stream",
     "text": [
      "Wall time: 999 µs\n"
     ]
    }
   ],
   "source": [
    "%time t1 = matmul4(x , y)"
   ]
  },
  {
   "cell_type": "code",
   "execution_count": null,
   "id": "4d85c30e",
   "metadata": {
    "id": "4d85c30e",
    "outputId": "61b7bd0b-2e0a-4bf8-e599-067183c03af0"
   },
   "outputs": [
    {
     "data": {
      "text/plain": [
       "1000.0"
      ]
     },
     "execution_count": 37,
     "metadata": {},
     "output_type": "execute_result"
    }
   ],
   "source": [
    "999 / 0.999 #compare between matmul3 and matmul4"
   ]
  },
  {
   "cell_type": "code",
   "execution_count": null,
   "id": "30dd560b",
   "metadata": {
    "id": "30dd560b",
    "outputId": "520a8385-356c-437c-b500-31a6687ff32e"
   },
   "outputs": [
    {
     "data": {
      "text/plain": [
       "3693.693693693693"
      ]
     },
     "execution_count": 41,
     "metadata": {},
     "output_type": "execute_result"
    }
   ],
   "source": [
    "3.69 / 0.000999 #compare between matmul1 and matmul4(between the worst method and the best one)"
   ]
  },
  {
   "cell_type": "markdown",
   "id": "5e212a50",
   "metadata": {
    "id": "5e212a50"
   },
   "source": [
    "# Reference for this notebook"
   ]
  },
  {
   "cell_type": "code",
   "execution_count": null,
   "id": "8f293f2e",
   "metadata": {
    "id": "8f293f2e"
   },
   "outputs": [],
   "source": [
    "#https://github.com/fastai/course-v3/blob/master/nbs/dl2/01_matmul.ipynb"
   ]
  },
  {
   "cell_type": "code",
   "execution_count": null,
   "id": "7268a2de",
   "metadata": {
    "id": "7268a2de"
   },
   "outputs": [],
   "source": []
  }
 ],
 "metadata": {
  "colab": {
   "collapsed_sections": [],
   "name": "_01matmul.ipynb",
   "provenance": []
  },
  "kernelspec": {
   "display_name": "Python 3 (ipykernel)",
   "language": "python",
   "name": "python3"
  },
  "language_info": {
   "codemirror_mode": {
    "name": "ipython",
    "version": 3
   },
   "file_extension": ".py",
   "mimetype": "text/x-python",
   "name": "python",
   "nbconvert_exporter": "python",
   "pygments_lexer": "ipython3",
   "version": "3.7.11"
  }
 },
 "nbformat": 4,
 "nbformat_minor": 5
}
