{
 "cells": [
  {
   "cell_type": "code",
   "execution_count": 5,
   "id": "95edadee",
   "metadata": {},
   "outputs": [],
   "source": [
    "%load_ext autoreload\n",
    "%autoreload 2\n",
    "\n",
    "%matplotlib inline"
   ]
  },
  {
   "cell_type": "code",
   "execution_count": 6,
   "id": "77419e85",
   "metadata": {},
   "outputs": [
    {
     "name": "stdout",
     "output_type": "stream",
     "text": [
      "importing Jupyter notebook from notebook2script_py.ipynb\n"
     ]
    }
   ],
   "source": [
    "#export\n",
    "from exp.nb_05 import *"
   ]
  },
  {
   "cell_type": "markdown",
   "id": "569ebf50",
   "metadata": {},
   "source": [
    "# Early stopping"
   ]
  },
  {
   "cell_type": "markdown",
   "id": "0ccad763",
   "metadata": {},
   "source": [
    "# Better callback cancellation"
   ]
  },
  {
   "cell_type": "code",
   "execution_count": 7,
   "id": "60c44fb2",
   "metadata": {},
   "outputs": [
    {
     "name": "stderr",
     "output_type": "stream",
     "text": [
      "F:\\Anaconda\\Anaconda\\lib\\site-packages\\torchvision\\datasets\\mnist.py:498: UserWarning: The given NumPy array is not writeable, and PyTorch does not support non-writeable tensors. This means you can write to the underlying (supposedly non-writeable) NumPy array using the tensor. You may want to copy the array to protect its data or make it writeable before converting it to a tensor. This type of warning will be suppressed for the rest of this program. (Triggered internally at  ..\\torch\\csrc\\utils\\tensor_numpy.cpp:180.)\n",
      "  return torch.from_numpy(parsed.astype(m[2], copy=False)).view(*s)\n",
      "F:\\Anaconda\\Anaconda\\lib\\site-packages\\torchvision\\datasets\\mnist.py:62: UserWarning: train_data has been renamed data\n",
      "  warnings.warn(\"train_data has been renamed data\")\n",
      "F:\\Anaconda\\Anaconda\\lib\\site-packages\\torchvision\\datasets\\mnist.py:52: UserWarning: train_labels has been renamed targets\n",
      "  warnings.warn(\"train_labels has been renamed targets\")\n"
     ]
    }
   ],
   "source": [
    "x_train,y_train,x_valid,y_valid = get_data()\n",
    "y_train = y_train.type(torch.LongTensor)\n",
    "y_valid = y_valid.type(torch.LongTensor)\n",
    "train_ds,valid_ds = Dataset(x_train, y_train),Dataset(x_valid, y_valid)\n",
    "nh,bs = 50,512\n",
    "c = y_train.max().item()+1\n",
    "loss_func = F.cross_entropy"
   ]
  },
  {
   "cell_type": "code",
   "execution_count": 8,
   "id": "accbe41a",
   "metadata": {},
   "outputs": [],
   "source": [
    "data = DataBunch(*get_dls(train_ds, valid_ds, bs), c)"
   ]
  },
  {
   "cell_type": "code",
   "execution_count": 44,
   "id": "3ec66ac2",
   "metadata": {},
   "outputs": [],
   "source": [
    "#export\n",
    "class Callback():\n",
    "    _order = 0\n",
    "    def set_runner(self , run):\n",
    "        self.run = run\n",
    "        \n",
    "    def __getattr__(self , k):\n",
    "        return getattr(self.run , k)\n",
    "    \n",
    "    @property\n",
    "    def name(self):\n",
    "        name = re.sub(r'Callback$', '', self.__class__.__name__)\n",
    "        return camel2snake(name or 'callback')\n",
    "        \n",
    "    def __call__(self , cb_name):\n",
    "        f = getattr(self , cb_name , None)\n",
    "        if f and f():\n",
    "            return True\n",
    "\n",
    "        return False\n",
    "\n",
    "class TrainEvalCallback(Callback):\n",
    "    def begin_fit(self):\n",
    "        self.run.n_epochs = 0.\n",
    "        self.run.n_iter = 0\n",
    "        \n",
    "    def after_batch(self):\n",
    "        if not self.in_train: \n",
    "            return\n",
    "        self.run.n_epochs += 1. / self.iters\n",
    "        self.run.n_iter += 1\n",
    "        \n",
    "    def begin_epoch(self):\n",
    "        self.run.n_epochs = self.epoch\n",
    "        self.model.train()\n",
    "        self.run.in_train = True\n",
    "        \n",
    "    def begin_validate(self):\n",
    "        self.model.eval()\n",
    "        self.run.in_train = False\n",
    "        \n",
    "class CancelTrainException(Exception): pass\n",
    "class CancelEpochException(Exception): pass\n",
    "class CancelBatchException(Exception): pass"
   ]
  },
  {
   "cell_type": "code",
   "execution_count": 55,
   "id": "736aaefb",
   "metadata": {},
   "outputs": [],
   "source": [
    "#export\n",
    "class Runner():\n",
    "    def __init__(self , cbs = None , cb_funcs = None):\n",
    "        self.in_train = False\n",
    "        cbs = listify(cbs)\n",
    "        for cbf in listify(cb_funcs):\n",
    "            cb = cbf()\n",
    "            setattr(self , cb.name , cb)\n",
    "            cbs.append(cb)\n",
    "            self.stop , self.cbs = False , [TrainEvalCallback()] + cbs\n",
    "            \n",
    "    @property\n",
    "    def opt(self):\n",
    "        return self.learn.opt\n",
    "    \n",
    "    @property\n",
    "    def model(self):\n",
    "        return self.learn.model\n",
    "    \n",
    "    @property\n",
    "    def loss_func(self):\n",
    "        return self.learn.loss_func\n",
    "    \n",
    "    @property\n",
    "    def data(self):\n",
    "        return self.learn.data\n",
    "    \n",
    "    def one_batch(self , xb , yb):\n",
    "        try:\n",
    "            self.xb , self.yb = xb , yb\n",
    "            self('begin_batch')\n",
    "            self.pred = self.model(self.xb)\n",
    "            self('after_pred')\n",
    "            self.loss = self.loss_func(self.pred , self.yb)\n",
    "            self('after_loss')\n",
    "            if not self.in_train: \n",
    "                return\n",
    "            self.loss.backward()\n",
    "            self('after_backward')\n",
    "            self.opt.step()\n",
    "            self('after_step')\n",
    "            self.opt.zero_grad()\n",
    "        except CancelBatchException: self('after_cancel_batch')\n",
    "        finally: self('after_batch')\n",
    "                \n",
    "    def all_batches(self , dl):\n",
    "        self.iters = len(dl)\n",
    "        try:\n",
    "            for xb , yb in dl:\n",
    "                self.one_batch(xb , yb)\n",
    "        except CancelEpochException: \n",
    "            self('after_cancel_epoch')\n",
    "            \n",
    "    def fit(self , epochs , learn):\n",
    "        self.epochs , self.learn , self.loss = epochs , learn , tensor(0.)\n",
    "        try:\n",
    "            for cb in self.cbs:\n",
    "                cb.set_runner(self)\n",
    "            \n",
    "            self('begin_fit')\n",
    "            for epoch in range(epochs):\n",
    "                self.epoch = epoch\n",
    "                if not self('begin_epoch'):\n",
    "                    self.all_batches(self.data.train_dl)\n",
    "                    \n",
    "                with torch.no_grad(): \n",
    "                    if not self('begin_validate'): \n",
    "                        self.all_batches(self.data.valid_dl)\n",
    "                self('after_epoch')\n",
    "                \n",
    "        except CancelTrainException: \n",
    "            self('after_cancel_train')\n",
    "            \n",
    "        finally:\n",
    "            self('after_fit')\n",
    "            self.learn = None\n",
    "        \n",
    "    def __call__(self, cb_name):\n",
    "        res = False\n",
    "        for cb in sorted(self.cbs, key=lambda x: x._order): res = cb(cb_name) or res\n",
    "        return res"
   ]
  },
  {
   "cell_type": "code",
   "execution_count": 56,
   "id": "e70bf011",
   "metadata": {},
   "outputs": [],
   "source": [
    "learn = create_learner(get_model, loss_func, data)"
   ]
  },
  {
   "cell_type": "code",
   "execution_count": 57,
   "id": "ab5b9b54",
   "metadata": {},
   "outputs": [],
   "source": [
    "class TestCallback(Callback):\n",
    "    _order = 1\n",
    "    def after_step(self):\n",
    "        print(self.n_iter)\n",
    "        if self.n_iter>=10: raise CancelTrainException()"
   ]
  },
  {
   "cell_type": "code",
   "execution_count": 58,
   "id": "46daf176",
   "metadata": {},
   "outputs": [],
   "source": [
    "run = Runner(cb_funcs = TestCallback)"
   ]
  },
  {
   "cell_type": "code",
   "execution_count": 59,
   "id": "0a122c30",
   "metadata": {},
   "outputs": [
    {
     "name": "stdout",
     "output_type": "stream",
     "text": [
      "0\n",
      "1\n",
      "2\n",
      "3\n",
      "4\n",
      "5\n",
      "6\n",
      "7\n",
      "8\n",
      "9\n",
      "10\n"
     ]
    }
   ],
   "source": [
    "run.fit(3 , learn)"
   ]
  },
  {
   "cell_type": "markdown",
   "id": "882f7548",
   "metadata": {},
   "source": [
    "# Other callbacks\n"
   ]
  },
  {
   "cell_type": "code",
   "execution_count": 60,
   "id": "9aa56185",
   "metadata": {},
   "outputs": [],
   "source": [
    "#export\n",
    "class AvgStatsCallback(Callback):\n",
    "    def __init__(self , metrics):\n",
    "        self.train_stats , self.valid_stats = AvgStats(metrics , True) , AvgStats(metrics , False)\n",
    "        \n",
    "    def begin_epoch(self):\n",
    "        self.train_stats.reset()\n",
    "        self.valid_stats.reset()\n",
    "        \n",
    "    def after_loss(self):\n",
    "        stats = self.train_stats if self.in_train else self.valid_stats\n",
    "        with torch.no_grad(): stats.accumulate(self.run)\n",
    "            \n",
    "    def after_epoch(self):\n",
    "        print(self.train_stats)\n",
    "        print(self.valid_stats)\n",
    "        \n",
    "class Recorder(Callback):\n",
    "    def begin_fit(self):\n",
    "        self.lrs = [[] for _ in self.opt.param_groups]\n",
    "        self.losses = []\n",
    "        \n",
    "    def after_batch(self):\n",
    "        if not self.in_train: return\n",
    "        for pg , lr in zip(self.opt.param_groups , self.lrs): \n",
    "            lr.append(pg['lr'])\n",
    "        self.losses.append(self.loss.detach().cpu())        \n",
    "\n",
    "    def plot_lr  (self , pgid = -1): \n",
    "        plt.plot(self.lrs[pgid])\n",
    "        \n",
    "    def plot_loss(self , skip_last = 0): \n",
    "        plt.plot(self.losses[:len(self.losses) - skip_last])\n",
    "        \n",
    "    def plot(self , skip_last = 0 , pgid = -1):\n",
    "        losses = [o.item() for o in self.losses]\n",
    "        lrs    = self.lrs[pgid]\n",
    "        n = len(losses) - skip_last\n",
    "        plt.xscale('log')\n",
    "        plt.plot(lrs[:n] , losses[:n])\n",
    "\n",
    "class ParamScheduler(Callback):\n",
    "    _order = 1\n",
    "    def __init__(self , pname , sched_funcs): \n",
    "        self.pname , self.sched_funcs = pname , sched_funcs\n",
    "        \n",
    "    def begin_fit(self):\n",
    "        if not isinstance(self.sched_funcs , (list , tuple)):\n",
    "            self.sched_funcs = [self.sched_funcs] * len(self.opt.param_groups)\n",
    "\n",
    "    def set_param(self):\n",
    "        assert len(self.opt.param_groups) == len(self.sched_funcs)\n",
    "        for pg , f in zip(self.opt.param_groups , self.sched_funcs):\n",
    "            pg[self.pname] = f(self.n_epochs / self.epochs)\n",
    "            \n",
    "    def begin_batch(self): \n",
    "        if self.in_train: \n",
    "            self.set_param()"
   ]
  },
  {
   "cell_type": "markdown",
   "id": "1ca0dd6d",
   "metadata": {},
   "source": [
    "# LR Finder\n"
   ]
  },
  {
   "cell_type": "code",
   "execution_count": 65,
   "id": "fb2be2b4",
   "metadata": {},
   "outputs": [],
   "source": [
    "class LR_Find(Callback):\n",
    "    _order = 1\n",
    "    def __init__(self , max_iter = 100 , min_lr = 1e-6 , max_lr = 10):\n",
    "        self.max_iter , self.min_lr , self.max_lr = max_iter , min_lr , max_lr\n",
    "        self.best_loss = 1e9\n",
    "        \n",
    "    def begin_batch(self):\n",
    "        if not self.in_train:\n",
    "            return \n",
    "        pos = self.n_iter / self.max_iter\n",
    "        lr = self.min_lr * (self.max_lr / self.min_lr) ** pos\n",
    "        for pg in self.opt.param_groups: \n",
    "            pg['lr'] = lr\n",
    "            \n",
    "    def after_step(self):\n",
    "        if self.n_iter >= self.max_iter or self.loss > self.best_loss * 10:\n",
    "            raise CancelTrainException()\n",
    "        if self.loss < self.best_loss: \n",
    "            self.best_loss = self.loss"
   ]
  },
  {
   "cell_type": "code",
   "execution_count": 66,
   "id": "b353451f",
   "metadata": {},
   "outputs": [],
   "source": [
    "learn = create_learner(get_model , loss_func , data)"
   ]
  },
  {
   "cell_type": "code",
   "execution_count": 67,
   "id": "9dd94585",
   "metadata": {},
   "outputs": [],
   "source": [
    "run = Runner(cb_funcs = [LR_Find, Recorder])"
   ]
  },
  {
   "cell_type": "code",
   "execution_count": 68,
   "id": "ecb42f38",
   "metadata": {},
   "outputs": [],
   "source": [
    "run.fit(2 , learn)"
   ]
  },
  {
   "cell_type": "code",
   "execution_count": 69,
   "id": "aee14e2a",
   "metadata": {},
   "outputs": [
    {
     "data": {
      "image/png": "[encoded data removed]",
      "text/plain": [
       "<Figure size 432x288 with 1 Axes>"
      ]
     },
     "metadata": {
      "needs_background": "light"
     },
     "output_type": "display_data"
    }
   ],
   "source": [
    "run.recorder.plot(skip_last = 5)"
   ]
  },
  {
   "cell_type": "code",
   "execution_count": 70,
   "id": "db0cd241",
   "metadata": {},
   "outputs": [
    {
     "data": {
      "image/png": "[encoded data removed]",
      "text/plain": [
       "<Figure size 432x288 with 1 Axes>"
      ]
     },
     "metadata": {
      "needs_background": "light"
     },
     "output_type": "display_data"
    }
   ],
   "source": [
    "run.recorder.plot_lr()"
   ]
  },
  {
   "cell_type": "markdown",
   "id": "8df3401b",
   "metadata": {},
   "source": [
    "# Reference for this notebook"
   ]
  },
  {
   "cell_type": "code",
   "execution_count": 1,
   "id": "c03c5e2c",
   "metadata": {},
   "outputs": [],
   "source": [
    "#https://github.com/fastai/course-v3/blob/master/nbs/dl2/05b_early_stopping.ipynb"
   ]
  },
  {
   "cell_type": "code",
   "execution_count": null,
   "id": "9cb71927",
   "metadata": {},
   "outputs": [],
   "source": []
  }
 ],
 "metadata": {
  "kernelspec": {
   "display_name": "Python 3 (ipykernel)",
   "language": "python",
   "name": "python3"
  },
  "language_info": {
   "codemirror_mode": {
    "name": "ipython",
    "version": 3
   },
   "file_extension": ".py",
   "mimetype": "text/x-python",
   "name": "python",
   "nbconvert_exporter": "python",
   "pygments_lexer": "ipython3",
   "version": "3.7.11"
  }
 },
 "nbformat": 4,
 "nbformat_minor": 5
}
